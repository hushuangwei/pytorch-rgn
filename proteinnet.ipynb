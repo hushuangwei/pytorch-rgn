{
  "nbformat": 4,
  "nbformat_minor": 0,
  "metadata": {
    "kernelspec": {
      "name": "python3",
      "display_name": "Python 3"
    },
    "colab": {
      "name": "proteinnet.ipynb",
      "provenance": []
    },
    "language_info": {
      "name": "python"
    }
  },
  "cells": [
    {
      "cell_type": "markdown",
      "metadata": {
        "id": "qVvONCEGXRhW"
      },
      "source": [
        "# Install conda and related\n",
        "\n",
        "https://towardsdatascience.com/conda-google-colab-75f7c867a522"
      ]
    },
    {
      "cell_type": "code",
      "metadata": {
        "id": "Owg7GUJTVbZp",
        "outputId": "89d1870f-15f3-4484-8ca8-f20148421950",
        "colab": {
          "base_uri": "https://localhost:8080/"
        }
      },
      "source": [
        "%%bash\n",
        "MINICONDA_INSTALLER_SCRIPT=Miniconda3-4.5.4-Linux-x86_64.sh\n",
        "MINICONDA_PREFIX=/usr/local\n",
        "wget https://repo.continuum.io/miniconda/$MINICONDA_INSTALLER_SCRIPT\n",
        "chmod +x $MINICONDA_INSTALLER_SCRIPT\n",
        "./$MINICONDA_INSTALLER_SCRIPT -b -f -p $MINICONDA_PREFIX"
      ],
      "execution_count": 15,
      "outputs": [
        {
          "output_type": "stream",
          "text": [
            "Process is interrupted.\n"
          ],
          "name": "stdout"
        }
      ]
    },
    {
      "cell_type": "code",
      "metadata": {
        "id": "ZlkxxJ30VvpE"
      },
      "source": [
        "%%bash\n",
        "conda install --channel defaults conda python=3.7 --yes\n",
        "conda update --channel defaults --all --yes"
      ],
      "execution_count": null,
      "outputs": []
    },
    {
      "cell_type": "code",
      "metadata": {
        "id": "SQwFMNqWWJ90",
        "outputId": "aa52fded-3874-4ead-e857-4e025105ea97",
        "colab": {
          "base_uri": "https://localhost:8080/"
        }
      },
      "source": [
        "!python --version"
      ],
      "execution_count": 8,
      "outputs": [
        {
          "output_type": "stream",
          "text": [
            "Python 3.7.11\n"
          ],
          "name": "stdout"
        }
      ]
    },
    {
      "cell_type": "code",
      "metadata": {
        "id": "iN0_xkYbWi_m"
      },
      "source": [
        "!conda install --channel conda-forge bcolz --yes"
      ],
      "execution_count": null,
      "outputs": []
    },
    {
      "cell_type": "code",
      "metadata": {
        "id": "hgujyeQFXBL7"
      },
      "source": [
        "# setting the environmental variables\n",
        "import sys\n",
        "_ = (sys.path\n",
        "        .append(\"/usr/local/lib/python3.7/site-packages\"))"
      ],
      "execution_count": 13,
      "outputs": []
    },
    {
      "cell_type": "markdown",
      "metadata": {
        "id": "82o2wvjhXmJn"
      },
      "source": [
        "# Run the "
      ]
    },
    {
      "cell_type": "code",
      "metadata": {
        "id": "0-hFtJgOUgNn"
      },
      "source": [
        "import os\n",
        "import numpy as np\n",
        "from io import BytesIO\n",
        "from tqdm import tqdm\n",
        "import bcolz"
      ],
      "execution_count": 14,
      "outputs": []
    },
    {
      "cell_type": "code",
      "metadata": {
        "id": "_BLZcDQyUgNr"
      },
      "source": [
        "pn_path = os.curdir + '/data/proteinnet/casp11/'\n",
        "data_path = os.curdir + '/data/'"
      ],
      "execution_count": null,
      "outputs": []
    },
    {
      "cell_type": "code",
      "metadata": {
        "id": "3peXdYuYUgNs",
        "outputId": "4bd1b1cd-c3ab-4ebf-e46f-b4e684823c74"
      },
      "source": [
        "ids = []\n",
        "seqs = []\n",
        "evs = []\n",
        "coords = []\n",
        "masks = ['init', '/n']\n",
        "id_next, pri_next, ev_next, ter_next, msk_next = False, False, False, False, False\n",
        "with open(pn_path+'testing') as fp:\n",
        "    for line in tqdm(iter(fp.readline, '')):\n",
        "        if id_next: ids.append(line[:-1])\n",
        "        elif pri_next: seqs.append(line[:-1])\n",
        "        elif ev_next: evs.append(np.genfromtxt(BytesIO(line)))\n",
        "        elif ter_next: coords.append(np.genfromtxt(BytesIO(line)))\n",
        "        elif msk_next: masks.append(line[:-1])\n",
        "        \n",
        "        if np.core.defchararray.find(line, \"[ID]\", end=5) != -1:\n",
        "            id_next = True\n",
        "            masks.pop()\n",
        "            masks.pop()\n",
        "            pri_next, ev_next, ter_next, msk_next = False, False, False, False\n",
        "        elif np.core.defchararray.find(line, \"[PRIMARY]\", end=10) != -1:\n",
        "            pri_next = True\n",
        "            ids.pop()\n",
        "            id_next, ev_next, ter_next, msk_next = False, False, False, False\n",
        "        elif np.core.defchararray.find(line, \"[EVOLUTIONARY]\", end=15) != -1:\n",
        "            ev_next = True\n",
        "            seqs.pop()\n",
        "            id_next, pri_next, ter_next, msk_next = False, False, False, False\n",
        "        elif np.core.defchararray.find(line, \"[TERTIARY]\", end=11) != -1:\n",
        "            ter_next = True\n",
        "            evs.pop()\n",
        "            id_next, pri_next, ev_next, msk_next = False, False, False, False\n",
        "        elif np.core.defchararray.find(line, \"[MASK]\", end=7) != -1:\n",
        "            msk_next = True\n",
        "            coords.pop()\n",
        "            id_next, pri_next, ev_next, ter_next = False, False, False, False"
      ],
      "execution_count": null,
      "outputs": [
        {
          "output_type": "stream",
          "text": [
            "2673it [00:11, 226.82it/s]\n"
          ],
          "name": "stderr"
        }
      ]
    },
    {
      "cell_type": "code",
      "metadata": {
        "id": "6fpcyblJUgNv",
        "outputId": "4db1e60d-0c24-4bef-d908-95eab5682f68"
      },
      "source": [
        "print('# IDs: {}'.format(len(ids)))\n",
        "print('# Seqs: {}'.format(len(seqs)))\n",
        "print('# PSSMs: {}'.format(len(evs)))\n",
        "print('# Coords: {}'.format(len(coords)))\n",
        "print('# Masks: {}'.format(len(masks[:-1]))) #-1 because of blank line at end of file"
      ],
      "execution_count": null,
      "outputs": [
        {
          "output_type": "stream",
          "text": [
            "# IDs: 81\n",
            "# Seqs: 81\n",
            "# PSSMs: 1701\n",
            "# Coords: 243\n",
            "# Masks: 81\n"
          ],
          "name": "stdout"
        }
      ]
    },
    {
      "cell_type": "code",
      "metadata": {
        "id": "YR6ADt4OUgNw"
      },
      "source": [
        "pssm = evs\n",
        "xyz = coords"
      ],
      "execution_count": null,
      "outputs": []
    },
    {
      "cell_type": "code",
      "metadata": {
        "id": "whmLnDquUgNw"
      },
      "source": [
        "#loop through each evolutionary section\n",
        "for i in range(len(ids)):\n",
        "    #first store the id and sequence\n",
        "    id = ids[i]\n",
        "    seq = seqs[i]\n",
        "    \n",
        "    #next get the PSSM matrix for the sequence\n",
        "    sp = 21*i\n",
        "    ep = 21*(i+1)\n",
        "    psi = np.array(pssm[sp:ep])\n",
        "    pssmi = np.stack([p for p in psi], axis=1)\n",
        "    \n",
        "    #then get the coordinates\n",
        "    sx = 3*i\n",
        "    ex = 3*(i+1)\n",
        "    xi = np.array(xyz[sx:ex])\n",
        "    xyzi = np.stack([c for c in xi], axis=1)/100 #have to scale by 100 to match PDB\n",
        "    \n",
        "    #lastly convert the mask to indices\n",
        "    msk_idx = np.where(np.array(list(masks[i])) == '+')[0]\n",
        "    \n",
        "    #bracket id or get \"setting an array element with a sequence\"\n",
        "    zt = np.array([[id], seq, pssmi, xyzi, msk_idx])\n",
        "    \n",
        "    if i == 0:\n",
        "        bc = bcolz.carray([zt], rootdir=data_path+'testing.bc', mode='w', expectedlen=len(ids))\n",
        "        bc.flush()\n",
        "    else:\n",
        "        bc = bcolz.carray(rootdir=data_path+'testing.bc', mode='w')\n",
        "        bc.append([zt])\n",
        "        bc.flush()"
      ],
      "execution_count": null,
      "outputs": []
    },
    {
      "cell_type": "code",
      "metadata": {
        "id": "DbJhlF4TUgNx"
      },
      "source": [
        "#bcolz.open(rootdir=data_path+'testing.bc')"
      ],
      "execution_count": null,
      "outputs": []
    }
  ]
}